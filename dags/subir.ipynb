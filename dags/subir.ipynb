{
 "cells": [
  {
   "cell_type": "code",
   "execution_count": 1,
   "metadata": {},
   "outputs": [],
   "source": [
    "import random\n",
    "import time\n",
    "import logging\n",
    "import mysql.connector\n",
    "from datetime import datetime\n",
    "import json\n",
    "from elasticsearch import Elasticsearch\n",
    "from datetime import datetime\n",
    "\n",
    "\n",
    "# Configuración de la base de datos\n",
    "DB_CONFIG = {\n",
    "    \"host\": \"localhost\",\n",
    "    \"user\": \"root\",\n",
    "    \"password\": \"miclave\",\n",
    "    \"database\": \"mydatabase\",\n",
    "    \"port\": 3306\n",
    "}\n"
   ]
  },
  {
   "cell_type": "code",
   "execution_count": 3,
   "metadata": {},
   "outputs": [
    {
     "data": {
      "text/plain": [
       "'./network_equipment_corrected.json'"
      ]
     },
     "execution_count": 3,
     "metadata": {},
     "output_type": "execute_result"
    }
   ],
   "source": [
    "# List of the 20 most populated cities in Ecuador\n",
    "\n",
    "ecuador_cities = [\n",
    "    \"Quito\", \"Guayaquil\", \"Cuenca\", \"SantoDomingo\", \"Machala\", \"Manta\", \"Ambato\", \"Loja\", \n",
    "    \"Portoviejo\", \"Esmeraldas\", \"Riobamba\", \"Ibarra\", \"Tulcan\", \"Quevedo\", \"Latacunga\", \"Chone\", \n",
    "    \"Duran\", \"Loja\", \"Salinas\", \"Babahoyo\"\n",
    "]\n",
    "\n",
    "# Generate the network equipment with corrected city names\n",
    "network_equipment_corrected = []\n",
    "\n",
    "# Generate switches (80)\n",
    "for i in range(1, 81):\n",
    "    switch_name = f\"sw{i}{ecuador_cities[(i - 1) % len(ecuador_cities)]}\"\n",
    "    interfaces = []\n",
    "    # Add 8 GigaEthernet interfaces with proper sequence\n",
    "    for j in range(1, 9):\n",
    "        interfaces.append(f\"GigaEthernet{((j - 1) // 8) + 1}/{(j - 1) % 8 + 1}\")\n",
    "    # Add 2 TenGigaEthernet interfaces\n",
    "    for j in range(1, 3):\n",
    "        interfaces.append(f\"TenGigaEthernet1/{j}\")\n",
    "    network_equipment_corrected.append({\"name\": switch_name, \"interfaces\": interfaces})\n",
    "\n",
    "# Generate routers (20)\n",
    "for i in range(1, 21):\n",
    "    router_name = f\"ro{i}{ecuador_cities[(i - 1) % len(ecuador_cities)]}\"\n",
    "    interfaces = []\n",
    "    # Add 2 GigaEthernet interfaces with proper sequence\n",
    "    for j in range(1, 3):\n",
    "        interfaces.append(f\"GigaEthernet1/{j}\")\n",
    "    # Add 4 TenGigaEthernet interfaces\n",
    "    for j in range(1, 3):\n",
    "        interfaces.append(f\"TenGigaEthernet1/{j}\")\n",
    "    for j in range(3, 5):\n",
    "        interfaces.append(f\"TenGigaEthernet2/{j}\")\n",
    "    network_equipment_corrected.append({\"name\": router_name, \"interfaces\": interfaces})\n",
    "\n",
    "# Save the corrected data to a JSON file\n",
    "file_path = './network_equipment_corrected.json'\n",
    "with open(file_path, 'w') as file:\n",
    "    json.dump(network_equipment_corrected, file, indent=4)\n",
    "\n",
    "file_path\n"
   ]
  },
  {
   "cell_type": "code",
   "execution_count": 2,
   "metadata": {
    "vscode": {
     "languageId": "ruby"
    }
   },
   "outputs": [
    {
     "name": "stdout",
     "output_type": "stream",
     "text": [
      "Conexión exitosa a Elasticsearch\n"
     ]
    },
    {
     "name": "stderr",
     "output_type": "stream",
     "text": [
      "C:\\Users\\equipo\\AppData\\Local\\Temp\\ipykernel_24452\\505490164.py:4: ElasticsearchWarning: Elasticsearch built-in security features are not enabled. Without authentication, your cluster could be accessible to anyone. See https://www.elastic.co/guide/en/elasticsearch/reference/7.17/security-minimal-setup.html to enable security.\n",
      "  if es.ping():\n"
     ]
    }
   ],
   "source": [
    "es = Elasticsearch(hosts=[\"http://127.0.0.1:9200\"])\n",
    "\n",
    "## Conexion a Elasticsearch\n",
    "if es.ping():\n",
    "    print(\"Conexión exitosa a Elasticsearch\")\n",
    "else:\n",
    "    print(\"Error al conectar con Elasticsearch\")\n",
    "    exit() \n"
   ]
  },
  {
   "cell_type": "code",
   "execution_count": 3,
   "metadata": {
    "vscode": {
     "languageId": "ruby"
    }
   },
   "outputs": [],
   "source": [
    "# Cargar lista de equipos desde un archivo JSON\n",
    "with open(\"network_equipment_with_ips.json\", \"r\") as file:\n",
    "    equipos = json.load(file)\n",
    "\n",
    "# Lista de equipos caídos\n",
    "equipos_caidos = []\n",
    "\n",
    "# Estados de los equipos y sus interfaces\n",
    "estado_equipos = {\n",
    "    equipo[\"name\"]: {\"disponible\": True, \"ultimo_down\": None, \"ultimo_up\": datetime.now(), \"reiniciar\": False} \n",
    "    for equipo in equipos\n",
    "}\n",
    "estado_interfaces = {\n",
    "    equipo[\"name\"]: {\n",
    "        interfaz: {\"disponible\": True, \"ultimo_down\": None, \"ultimo_up\": datetime.now()} \n",
    "        for interfaz in equipo[\"interfaces\"]\n",
    "    }\n",
    "    for equipo in equipos\n",
    "}\n",
    "\n",
    "def generar_log():\n",
    "    equipo = random.choice(equipos)\n",
    "    equipo_nombre = equipo[\"name\"]\n",
    "    equipo_ip = equipo.get(\"ip\", \"0.0.0.0\")\n",
    "    ahora = datetime.now()\n",
    "\n",
    "    # Forzar log en cada iteración si no hay evento relevante\n",
    "    log = None\n",
    "    \n",
    "    # Verificar si el equipo está caído y si han pasado más de 5 minutos\n",
    "    if not estado_equipos[equipo_nombre][\"disponible\"]:\n",
    "        if (ahora - estado_equipos[equipo_nombre][\"ultimo_down\"]).total_seconds() > 300:\n",
    "            estado_equipos[equipo_nombre][\"disponible\"] = True\n",
    "            estado_equipos[equipo_nombre][\"ultimo_up\"] = ahora\n",
    "            log = f\"{ahora} availably by ICMP {equipo_nombre} {equipo_ip}\"\n",
    "            if random.random() < 0.5:  # 50% de probabilidad de reinicio justo después\n",
    "                estado_equipos[equipo_nombre][\"reiniciar\"] = True\n",
    "            equipos_caidos.remove(equipo_nombre)  # El equipo vuelve a estar disponible\n",
    "        return log\n",
    "    \n",
    "    if estado_equipos[equipo_nombre][\"reiniciar\"]:\n",
    "        estado_equipos[equipo_nombre][\"reiniciar\"] = False\n",
    "        return f\"{ahora} RESTART {equipo_nombre}\"\n",
    "    \n",
    "    # Verificar si alguna interfaz está caída y si han pasado más de 5 minutos\n",
    "    for interfaz, estado in estado_interfaces[equipo_nombre].items():\n",
    "        if not estado[\"disponible\"] and (ahora - estado[\"ultimo_down\"]).total_seconds() > 300:\n",
    "            estado[\"disponible\"] = True\n",
    "            estado[\"ultimo_up\"] = ahora\n",
    "            return f\"{ahora} Interface is up {equipo_nombre} {interfaz}\"\n",
    "    \n",
    "    # Aumentar la probabilidad de eventos no críticos\n",
    "    if random.random() < 0.1:  # Aumento la probabilidad a 20% para \"Clock Late\" o \"Interface is clean\"\n",
    "        return f\"{ahora} Clock Late {equipo_nombre} {equipo_ip}\"\n",
    "\n",
    "    if random.random() < 0.15:  # Aumento la probabilidad de \"Interfaz is clean\"\n",
    "        return f\"{ahora} Interface is clean {equipo_nombre}\"\n",
    "    \n",
    "    # Reducir la probabilidad de eventos críticos\n",
    "    if random.random() < 0.005:  # 0.5% de probabilidad de caída del equipo\n",
    "        estado_equipos[equipo_nombre][\"disponible\"] = False\n",
    "        estado_equipos[equipo_nombre][\"ultimo_down\"] = ahora\n",
    "        equipos_caidos.append(equipo_nombre)  # El equipo se añade a la lista de equipos caídos\n",
    "        return f\"{ahora} unavailably by ICMP {equipo_nombre} {equipo_ip}\"\n",
    "    \n",
    "    if random.random() < 0.025:  # 2.5% de probabilidad de caída de una interfaz\n",
    "        interfaz = random.choice(list(estado_interfaces[equipo_nombre].keys()))\n",
    "        if estado_interfaces[equipo_nombre][interfaz][\"disponible\"]:\n",
    "            estado_interfaces[equipo_nombre][interfaz][\"disponible\"] = False\n",
    "            estado_interfaces[equipo_nombre][interfaz][\"ultimo_down\"] = ahora\n",
    "            return f\"{ahora} Interface is down {equipo_nombre} {interfaz}\"\n",
    "    \n",
    "    # Aumentar la probabilidad de eventos no críticos\n",
    "    if random.random() < 0.1:  # Aumento la probabilidad a 10%\n",
    "        return f\"{ahora} Debug server log is time\"\n",
    "    \n",
    "    if random.random() < 0.15:\n",
    "        return f\"{ahora} Network interface port types to discover {equipo_nombre} {random.choice(equipo['interfaces'])}\"\n",
    "    \n",
    "    if random.random() < 0.15:\n",
    "        return f\"{ahora} availably by SNMP {equipo_nombre} {equipo_ip}\"\n",
    "    \n",
    "    return log if log else f\"{ahora} Debug server log is time\"  # Forzamos log si no se generó ninguno\n",
    "\n",
    "    \n"
   ]
  },
  {
   "cell_type": "code",
   "execution_count": 4,
   "metadata": {
    "vscode": {
     "languageId": "ruby"
    }
   },
   "outputs": [],
   "source": [
    "\n",
    "def enviar_a_elasticsearch(log):\n",
    "    # Estructura del log a enviar a Elasticsearch\n",
    "    doc = {\n",
    "        \"@timestamp\": datetime.now(),\n",
    "        \"log\": log\n",
    "    }\n",
    "    \n",
    "    # Enviar el log a un índice llamado \"network-logs\"\n",
    "    es.index(index=\"network-logs\", document=doc)\n",
    "    # Ejemplo de uso\n",
    "    log = generar_log()  # Generamos un log utilizando la función anterior\n",
    "\n"
   ]
  },
  {
   "cell_type": "code",
   "execution_count": null,
   "metadata": {
    "vscode": {
     "languageId": "ruby"
    }
   },
   "outputs": [],
   "source": [
    "import mysql.connector\n",
    "import re\n",
    "from datetime import datetime\n",
    "\n",
    "# Función para enviar el log a MySQL\n",
    "def enviar_mysql(log):\n",
    "    # Establecer la conexión con MySQL\n",
    "    conexion = mysql.connector.connect(host=\"localhost\",user=\"root\",password=\"miclave\",database=\"template_logs\"\n",
    "    )\n",
    "    \n",
    "    # Crear el cursor para ejecutar las consultas\n",
    "    cursor = conexion.cursor()\n",
    "    \n",
    "    # Expresión regular para extraer el timestamp y el mensaje\n",
    "    pattern = r\"^(\\d{4}-\\d{2}-\\d{2} \\d{2}:\\d{2}:\\d{2}\\.\\d{6})\\s+(.*)$\"\n",
    "    match = re.match(pattern, log)\n",
    "    \n",
    "    if match:\n",
    "        timestamp_str = match.group(1)  # El timestamp\n",
    "        log_message = match.group(2)  # El mensaje del log\n",
    "        \n",
    "        # Convertir el timestamp a un objeto datetime\n",
    "        timestamp = datetime.strptime(timestamp_str, \"%Y-%m-%d %H:%M:%S.%f\")\n",
    "        \n",
    "        # Eliminar los microsegundos (ajustamos el timestamp a solo segundos)\n",
    "        timestamp = timestamp.replace(microsecond=0)\n",
    "        \n",
    "        # Insertar en la tabla 'network_logs'\n",
    "        sql = \"INSERT INTO network_logs (timestamp, log) VALUES (%s, %s)\"\n",
    "        valores = (timestamp, log_message)\n",
    "        \n",
    "        # Ejecutar la inserción\n",
    "        cursor.execute(sql, valores)\n",
    "        \n",
    "        # Confirmar la transacción\n",
    "        conexion.commit()\n",
    "        \n",
    "        # Cerrar el cursor y la conexión\n",
    "        cursor.close()\n",
    "        conexion.close()\n",
    "\n",
    "        print(f\"Log insertado en MySQL: {timestamp} - {log_message}\")\n",
    "    else:\n",
    "        print(\"Formato de log no válido\")\n"
   ]
  },
  {
   "cell_type": "code",
   "execution_count": 22,
   "metadata": {
    "vscode": {
     "languageId": "ruby"
    }
   },
   "outputs": [
    {
     "name": "stdout",
     "output_type": "stream",
     "text": [
      "2025-02-07 23:52:57.250844 Interface is clean sw78Loja\n"
     ]
    },
    {
     "ename": "ProgrammingError",
     "evalue": "1054 (42S22): Unknown column 'log_message' in 'field list'",
     "output_type": "error",
     "traceback": [
      "\u001b[1;31m---------------------------------------------------------------------------\u001b[0m",
      "\u001b[1;31mMySQLInterfaceError\u001b[0m                       Traceback (most recent call last)",
      "File \u001b[1;32mc:\\Users\\equipo\\anaconda3\\Lib\\site-packages\\mysql\\connector\\connection_cext.py:755\u001b[0m, in \u001b[0;36mCMySQLConnection.cmd_query\u001b[1;34m(self, query, raw, buffered, raw_as_string, **kwargs)\u001b[0m\n\u001b[0;32m    754\u001b[0m         query \u001b[38;5;241m=\u001b[39m query\u001b[38;5;241m.\u001b[39mencode(\u001b[38;5;124m\"\u001b[39m\u001b[38;5;124mutf-8\u001b[39m\u001b[38;5;124m\"\u001b[39m)\n\u001b[1;32m--> 755\u001b[0m     \u001b[38;5;28;43mself\u001b[39;49m\u001b[38;5;241;43m.\u001b[39;49m\u001b[43m_cmysql\u001b[49m\u001b[38;5;241;43m.\u001b[39;49m\u001b[43mquery\u001b[49m\u001b[43m(\u001b[49m\n\u001b[0;32m    756\u001b[0m \u001b[43m        \u001b[49m\u001b[43mquery\u001b[49m\u001b[43m,\u001b[49m\n\u001b[0;32m    757\u001b[0m \u001b[43m        \u001b[49m\u001b[43mraw\u001b[49m\u001b[38;5;241;43m=\u001b[39;49m\u001b[43mraw\u001b[49m\u001b[43m,\u001b[49m\n\u001b[0;32m    758\u001b[0m \u001b[43m        \u001b[49m\u001b[43mbuffered\u001b[49m\u001b[38;5;241;43m=\u001b[39;49m\u001b[43mbuffered\u001b[49m\u001b[43m,\u001b[49m\n\u001b[0;32m    759\u001b[0m \u001b[43m        \u001b[49m\u001b[43mraw_as_string\u001b[49m\u001b[38;5;241;43m=\u001b[39;49m\u001b[43mraw_as_string\u001b[49m\u001b[43m,\u001b[49m\n\u001b[0;32m    760\u001b[0m \u001b[43m        \u001b[49m\u001b[43mquery_attrs\u001b[49m\u001b[38;5;241;43m=\u001b[39;49m\u001b[38;5;28;43mself\u001b[39;49m\u001b[38;5;241;43m.\u001b[39;49m\u001b[43mquery_attrs\u001b[49m\u001b[43m,\u001b[49m\n\u001b[0;32m    761\u001b[0m \u001b[43m    \u001b[49m\u001b[43m)\u001b[49m\n\u001b[0;32m    762\u001b[0m \u001b[38;5;28;01mexcept\u001b[39;00m MySQLInterfaceError \u001b[38;5;28;01mas\u001b[39;00m err:\n",
      "\u001b[1;31mMySQLInterfaceError\u001b[0m: Unknown column 'log_message' in 'field list'",
      "\nThe above exception was the direct cause of the following exception:\n",
      "\u001b[1;31mProgrammingError\u001b[0m                          Traceback (most recent call last)",
      "Cell \u001b[1;32mIn[22], line 7\u001b[0m\n\u001b[0;32m      5\u001b[0m \u001b[38;5;28;01mif\u001b[39;00m log:\n\u001b[0;32m      6\u001b[0m     \u001b[38;5;28mprint\u001b[39m(log)\n\u001b[1;32m----> 7\u001b[0m     \u001b[43menviar_mysql\u001b[49m\u001b[43m(\u001b[49m\u001b[43mlog\u001b[49m\u001b[43m)\u001b[49m\n\u001b[0;32m      8\u001b[0m     enviar_a_elasticsearch(log)  \u001b[38;5;66;03m# Enviar a Elasticsearch\u001b[39;00m\n\u001b[0;32m      9\u001b[0m time\u001b[38;5;241m.\u001b[39msleep(\u001b[38;5;241m2\u001b[39m)  \u001b[38;5;66;03m# Ajustamos el tiempo de impresión a 2 segundos\u001b[39;00m\n",
      "Cell \u001b[1;32mIn[21], line 33\u001b[0m, in \u001b[0;36menviar_mysql\u001b[1;34m(log)\u001b[0m\n\u001b[0;32m     30\u001b[0m valores \u001b[38;5;241m=\u001b[39m (timestamp, log_message)\n\u001b[0;32m     32\u001b[0m \u001b[38;5;66;03m# Ejecutar la inserción\u001b[39;00m\n\u001b[1;32m---> 33\u001b[0m \u001b[43mcursor\u001b[49m\u001b[38;5;241;43m.\u001b[39;49m\u001b[43mexecute\u001b[49m\u001b[43m(\u001b[49m\u001b[43msql\u001b[49m\u001b[43m,\u001b[49m\u001b[43m \u001b[49m\u001b[43mvalores\u001b[49m\u001b[43m)\u001b[49m\n\u001b[0;32m     35\u001b[0m \u001b[38;5;66;03m# Confirmar la transacción\u001b[39;00m\n\u001b[0;32m     36\u001b[0m conexion\u001b[38;5;241m.\u001b[39mcommit()\n",
      "File \u001b[1;32mc:\\Users\\equipo\\anaconda3\\Lib\\site-packages\\mysql\\connector\\cursor_cext.py:351\u001b[0m, in \u001b[0;36mCMySQLCursor.execute\u001b[1;34m(self, operation, params, map_results)\u001b[0m\n\u001b[0;32m    343\u001b[0m \u001b[38;5;28mself\u001b[39m\u001b[38;5;241m.\u001b[39m_executed \u001b[38;5;241m=\u001b[39m (\n\u001b[0;32m    344\u001b[0m     \u001b[38;5;28mself\u001b[39m\u001b[38;5;241m.\u001b[39m_stmt_partition[\u001b[38;5;124m\"\u001b[39m\u001b[38;5;124msingle_stmts\u001b[39m\u001b[38;5;124m\"\u001b[39m]\u001b[38;5;241m.\u001b[39mpopleft()\n\u001b[0;32m    345\u001b[0m     \u001b[38;5;28;01mif\u001b[39;00m map_results\n\u001b[0;32m    346\u001b[0m     \u001b[38;5;28;01melse\u001b[39;00m \u001b[38;5;28mself\u001b[39m\u001b[38;5;241m.\u001b[39m_stmt_partition[\u001b[38;5;124m\"\u001b[39m\u001b[38;5;124mmappable_stmt\u001b[39m\u001b[38;5;124m\"\u001b[39m]\n\u001b[0;32m    347\u001b[0m )\n\u001b[0;32m    349\u001b[0m \u001b[38;5;28;01mtry\u001b[39;00m:\n\u001b[0;32m    350\u001b[0m     \u001b[38;5;28mself\u001b[39m\u001b[38;5;241m.\u001b[39m_handle_result(\n\u001b[1;32m--> 351\u001b[0m         \u001b[38;5;28;43mself\u001b[39;49m\u001b[38;5;241;43m.\u001b[39;49m\u001b[43m_connection\u001b[49m\u001b[38;5;241;43m.\u001b[39;49m\u001b[43mcmd_query\u001b[49m\u001b[43m(\u001b[49m\n\u001b[0;32m    352\u001b[0m \u001b[43m            \u001b[49m\u001b[38;5;28;43mself\u001b[39;49m\u001b[38;5;241;43m.\u001b[39;49m\u001b[43m_stmt_partition\u001b[49m\u001b[43m[\u001b[49m\u001b[38;5;124;43m\"\u001b[39;49m\u001b[38;5;124;43mmappable_stmt\u001b[39;49m\u001b[38;5;124;43m\"\u001b[39;49m\u001b[43m]\u001b[49m\u001b[43m,\u001b[49m\n\u001b[0;32m    353\u001b[0m \u001b[43m            \u001b[49m\u001b[43mraw\u001b[49m\u001b[38;5;241;43m=\u001b[39;49m\u001b[38;5;28;43mself\u001b[39;49m\u001b[38;5;241;43m.\u001b[39;49m\u001b[43m_raw\u001b[49m\u001b[43m,\u001b[49m\n\u001b[0;32m    354\u001b[0m \u001b[43m            \u001b[49m\u001b[43mbuffered\u001b[49m\u001b[38;5;241;43m=\u001b[39;49m\u001b[38;5;28;43mself\u001b[39;49m\u001b[38;5;241;43m.\u001b[39;49m\u001b[43m_buffered\u001b[49m\u001b[43m,\u001b[49m\n\u001b[0;32m    355\u001b[0m \u001b[43m            \u001b[49m\u001b[43mraw_as_string\u001b[49m\u001b[38;5;241;43m=\u001b[39;49m\u001b[38;5;28;43mself\u001b[39;49m\u001b[38;5;241;43m.\u001b[39;49m\u001b[43m_raw_as_string\u001b[49m\u001b[43m,\u001b[49m\n\u001b[0;32m    356\u001b[0m \u001b[43m        \u001b[49m\u001b[43m)\u001b[49m\n\u001b[0;32m    357\u001b[0m     )\n\u001b[0;32m    358\u001b[0m \u001b[38;5;28;01mexcept\u001b[39;00m MySQLInterfaceError \u001b[38;5;28;01mas\u001b[39;00m err:\n\u001b[0;32m    359\u001b[0m     \u001b[38;5;28;01mraise\u001b[39;00m get_mysql_exception(\n\u001b[0;32m    360\u001b[0m         msg\u001b[38;5;241m=\u001b[39merr\u001b[38;5;241m.\u001b[39mmsg, errno\u001b[38;5;241m=\u001b[39merr\u001b[38;5;241m.\u001b[39merrno, sqlstate\u001b[38;5;241m=\u001b[39merr\u001b[38;5;241m.\u001b[39msqlstate\n\u001b[0;32m    361\u001b[0m     ) \u001b[38;5;28;01mfrom\u001b[39;00m \u001b[38;5;21;01merr\u001b[39;00m\n",
      "File \u001b[1;32mc:\\Users\\equipo\\anaconda3\\Lib\\site-packages\\mysql\\connector\\opentelemetry\\context_propagation.py:106\u001b[0m, in \u001b[0;36mwith_context_propagation.<locals>.wrapper\u001b[1;34m(cnx, *args, **kwargs)\u001b[0m\n\u001b[0;32m    103\u001b[0m     cnx\u001b[38;5;241m.\u001b[39mquery_attrs_append(value\u001b[38;5;241m=\u001b[39m(TRACEPARENT_HEADER_NAME, tp_header))\n\u001b[0;32m    105\u001b[0m \u001b[38;5;28;01mtry\u001b[39;00m:\n\u001b[1;32m--> 106\u001b[0m     result \u001b[38;5;241m=\u001b[39m \u001b[43mmethod\u001b[49m\u001b[43m(\u001b[49m\u001b[43mcnx\u001b[49m\u001b[43m,\u001b[49m\u001b[43m \u001b[49m\u001b[38;5;241;43m*\u001b[39;49m\u001b[43margs\u001b[49m\u001b[43m,\u001b[49m\u001b[43m \u001b[49m\u001b[38;5;241;43m*\u001b[39;49m\u001b[38;5;241;43m*\u001b[39;49m\u001b[43mkwargs\u001b[49m\u001b[43m)\u001b[49m\n\u001b[0;32m    107\u001b[0m \u001b[38;5;28;01mfinally\u001b[39;00m:\n\u001b[0;32m    108\u001b[0m     \u001b[38;5;28;01mif\u001b[39;00m tp_header \u001b[38;5;129;01mis\u001b[39;00m \u001b[38;5;129;01mnot\u001b[39;00m \u001b[38;5;28;01mNone\u001b[39;00m:\n",
      "File \u001b[1;32mc:\\Users\\equipo\\anaconda3\\Lib\\site-packages\\mysql\\connector\\connection_cext.py:763\u001b[0m, in \u001b[0;36mCMySQLConnection.cmd_query\u001b[1;34m(self, query, raw, buffered, raw_as_string, **kwargs)\u001b[0m\n\u001b[0;32m    755\u001b[0m     \u001b[38;5;28mself\u001b[39m\u001b[38;5;241m.\u001b[39m_cmysql\u001b[38;5;241m.\u001b[39mquery(\n\u001b[0;32m    756\u001b[0m         query,\n\u001b[0;32m    757\u001b[0m         raw\u001b[38;5;241m=\u001b[39mraw,\n\u001b[1;32m   (...)\u001b[0m\n\u001b[0;32m    760\u001b[0m         query_attrs\u001b[38;5;241m=\u001b[39m\u001b[38;5;28mself\u001b[39m\u001b[38;5;241m.\u001b[39mquery_attrs,\n\u001b[0;32m    761\u001b[0m     )\n\u001b[0;32m    762\u001b[0m \u001b[38;5;28;01mexcept\u001b[39;00m MySQLInterfaceError \u001b[38;5;28;01mas\u001b[39;00m err:\n\u001b[1;32m--> 763\u001b[0m     \u001b[38;5;28;01mraise\u001b[39;00m get_mysql_exception(\n\u001b[0;32m    764\u001b[0m         err\u001b[38;5;241m.\u001b[39merrno, msg\u001b[38;5;241m=\u001b[39merr\u001b[38;5;241m.\u001b[39mmsg, sqlstate\u001b[38;5;241m=\u001b[39merr\u001b[38;5;241m.\u001b[39msqlstate\n\u001b[0;32m    765\u001b[0m     ) \u001b[38;5;28;01mfrom\u001b[39;00m \u001b[38;5;21;01merr\u001b[39;00m\n\u001b[0;32m    766\u001b[0m \u001b[38;5;28;01mexcept\u001b[39;00m \u001b[38;5;167;01mAttributeError\u001b[39;00m \u001b[38;5;28;01mas\u001b[39;00m err:\n\u001b[0;32m    767\u001b[0m     addr \u001b[38;5;241m=\u001b[39m (\n\u001b[0;32m    768\u001b[0m         \u001b[38;5;28mself\u001b[39m\u001b[38;5;241m.\u001b[39m_unix_socket \u001b[38;5;28;01mif\u001b[39;00m \u001b[38;5;28mself\u001b[39m\u001b[38;5;241m.\u001b[39m_unix_socket \u001b[38;5;28;01melse\u001b[39;00m \u001b[38;5;124mf\u001b[39m\u001b[38;5;124m\"\u001b[39m\u001b[38;5;132;01m{\u001b[39;00m\u001b[38;5;28mself\u001b[39m\u001b[38;5;241m.\u001b[39m_host\u001b[38;5;132;01m}\u001b[39;00m\u001b[38;5;124m:\u001b[39m\u001b[38;5;132;01m{\u001b[39;00m\u001b[38;5;28mself\u001b[39m\u001b[38;5;241m.\u001b[39m_port\u001b[38;5;132;01m}\u001b[39;00m\u001b[38;5;124m\"\u001b[39m\n\u001b[0;32m    769\u001b[0m     )\n",
      "\u001b[1;31mProgrammingError\u001b[0m: 1054 (42S22): Unknown column 'log_message' in 'field list'"
     ]
    }
   ],
   "source": [
    "try:\n",
    "    # Generar logs en un loop sin hilos\n",
    "    while True:\n",
    "        log = generar_log()\n",
    "        if log:\n",
    "            print(log)\n",
    "            enviar_mysql(log)\n",
    "            enviar_a_elasticsearch(log)  # Enviar a Elasticsearch\n",
    "        time.sleep(2)  # Ajustamos el tiempo de impresión a 2 segundos\n",
    "except KeyboardInterrupt:\n",
    "        print(\"\\n Inserción de datos del sensor detenida manualmente.\")"
   ]
  },
  {
   "cell_type": "code",
   "execution_count": null,
   "metadata": {
    "vscode": {
     "languageId": "ruby"
    }
   },
   "outputs": [],
   "source": []
  }
 ],
 "metadata": {
  "kernelspec": {
   "display_name": "base",
   "language": "python",
   "name": "python3"
  },
  "language_info": {
   "codemirror_mode": {
    "name": "ipython",
    "version": 3
   },
   "file_extension": ".py",
   "mimetype": "text/x-python",
   "name": "python",
   "nbconvert_exporter": "python",
   "pygments_lexer": "ipython3",
   "version": "3.11.7"
  }
 },
 "nbformat": 4,
 "nbformat_minor": 2
}
