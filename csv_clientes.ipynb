{
 "cells": [
  {
   "cell_type": "code",
   "execution_count": 2,
   "metadata": {},
   "outputs": [
    {
     "name": "stdout",
     "output_type": "stream",
     "text": [
      "Archivo 'switches_y_clientes.csv' generado exitosamente.\n"
     ]
    }
   ],
   "source": [
    "import json\n",
    "import csv\n",
    "import random\n",
    "import re\n",
    "\n",
    "# Lista de las 20 empresas más grandes de Ecuador sin tildes ni guiones\n",
    "empresas_top = [\n",
    "    \"CorporacionFavorita\", \"Nestle\", \"Pronaca\", \"CerveceriaNacional\", \"ProdubancoGrupoPromerica\",\n",
    "    \"BancoPichincha\", \"Holcim\", \"Tia\", \"Pacari\", \"GrupoDifare\",\n",
    "    \"CocaCola\", \"ConsorcioNobis\", \"NirsaSA\", \"ModernaAlimentos\", \"BancoGuayaquil\",\n",
    "    \"CorporacionElRosado\", \"IndustriasLacteasToni\", \"Dulcafe\", \"ArcaContinental\", \"LaFabril\"\n",
    "]\n",
    "\n",
    "# Función para extraer la ciudad a partir del nombre del switch\n",
    "def obtener_ciudad(switch_name):\n",
    "    return re.sub(r\"^sw\\d+\", \"\", switch_name)  # Elimina 'sw' seguido de números\n",
    "\n",
    "# Función para generar nombres de clientes evitando duplicados\n",
    "def generar_nombres_clientes(ciudad, num_clientes, clientes_existentes):\n",
    "    clientes = []\n",
    "    for _ in range(num_clientes):\n",
    "        empresa = random.choice(empresas_top)\n",
    "        nombre_cliente_base = f\"{empresa.lower()}{ciudad.lower()}\"\n",
    "        nombre_cliente = nombre_cliente_base\n",
    "\n",
    "        # Verifica si ya existe y añade un número incremental\n",
    "        contador = 1\n",
    "        while nombre_cliente in clientes_existentes:\n",
    "            nombre_cliente = f\"{nombre_cliente_base}{contador}\"\n",
    "            contador += 1\n",
    "        \n",
    "        clientes.append(nombre_cliente)\n",
    "        clientes_existentes.add(nombre_cliente)\n",
    "    \n",
    "    return clientes\n",
    "\n",
    "# Leer el archivo JSON\n",
    "with open(\"network_equipment_with_ips.json\", \"r\") as file:\n",
    "    data = json.load(file)\n",
    "\n",
    "# Conjunto para rastrear clientes generados y evitar duplicados\n",
    "clientes_existentes = set()\n",
    "\n",
    "# Crear y escribir en el archivo CSV\n",
    "with open(\"switches_y_clientes.csv\", \"w\", newline='') as csvfile:\n",
    "    fieldnames = [\"Switch Name\", \"IP Address\", \"Client Name\"]\n",
    "    writer = csv.DictWriter(csvfile, fieldnames=fieldnames)\n",
    "\n",
    "    writer.writeheader()\n",
    "    for item in data:\n",
    "        switch_name = item.get(\"name\")\n",
    "        ip_address = item.get(\"ip\")\n",
    "        ciudad = obtener_ciudad(switch_name)  # Extraer ciudad desde el nombre del switch\n",
    "\n",
    "        num_clientes = random.randint(8, 10)\n",
    "        clientes = generar_nombres_clientes(ciudad, num_clientes, clientes_existentes)\n",
    "\n",
    "        for cliente in clientes:\n",
    "            writer.writerow({\"Switch Name\": switch_name, \"IP Address\": ip_address, \"Client Name\": cliente})\n",
    "\n",
    "print(\"Archivo 'switches_y_clientes.csv' generado exitosamente.\")\n"
   ]
  }
 ],
 "metadata": {
  "kernelspec": {
   "display_name": "base",
   "language": "python",
   "name": "python3"
  },
  "language_info": {
   "codemirror_mode": {
    "name": "ipython",
    "version": 3
   },
   "file_extension": ".py",
   "mimetype": "text/x-python",
   "name": "python",
   "nbconvert_exporter": "python",
   "pygments_lexer": "ipython3",
   "version": "3.11.7"
  }
 },
 "nbformat": 4,
 "nbformat_minor": 2
}
